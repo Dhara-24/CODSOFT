{
 "cells": [
  {
   "cell_type": "markdown",
   "metadata": {},
   "source": [
    "## Password Generator"
   ]
  },
  {
   "cell_type": "markdown",
   "metadata": {},
   "source": [
    "We need a strong password, which must have:\n",
    "i) length of atleast 6\n",
    "ii)  lower and upper case alphabets\n",
    "iii) digits\n",
    "iv) punctuations"
   ]
  },
  {
   "cell_type": "code",
   "execution_count": 1,
   "metadata": {},
   "outputs": [
    {
     "name": "stdout",
     "output_type": "stream",
     "text": [
      "Length of password is  4\n",
      "Please enter the length of password greater than 7.\n"
     ]
    }
   ],
   "source": [
    "l=int(input(\"Enter the length of password you would like to create: \"))\n",
    "print(\"Length of password is \",l)\n",
    "\n",
    "\n",
    "import string, random\n",
    "\n",
    "# combining letters, digits, punctuations\n",
    "s = string.ascii_letters + string.digits + string.punctuation\n",
    "\n",
    "Password = \"\" # new string to store the password generated randomly \n",
    "\n",
    "if l > 5:\n",
    "    for i in range(l):\n",
    "        Password = Password + random.choice(s)\n",
    "    print(\"Passowrd Generator: {}\".format(Password))\n",
    "else: \n",
    "    print(\"Please enter the length of password greater than 7.\")"
   ]
  }
 ],
 "metadata": {
  "kernelspec": {
   "display_name": "base",
   "language": "python",
   "name": "python3"
  },
  "language_info": {
   "codemirror_mode": {
    "name": "ipython",
    "version": 3
   },
   "file_extension": ".py",
   "mimetype": "text/x-python",
   "name": "python",
   "nbconvert_exporter": "python",
   "pygments_lexer": "ipython3",
   "version": "3.11.7"
  }
 },
 "nbformat": 4,
 "nbformat_minor": 2
}
