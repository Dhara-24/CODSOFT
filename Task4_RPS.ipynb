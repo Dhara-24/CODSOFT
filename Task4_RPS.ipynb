{
 "cells": [
  {
   "cell_type": "markdown",
   "metadata": {},
   "source": [
    "## Rock-Paper-Scissors Game"
   ]
  },
  {
   "cell_type": "markdown",
   "metadata": {},
   "source": [
    "Rule for the game is:\n",
    "i) Rock smashes scissors\n",
    "ii) Paper covers rock\n",
    "iii) Scissors cuts paper"
   ]
  },
  {
   "cell_type": "code",
   "execution_count": 15,
   "metadata": {},
   "outputs": [
    {
     "name": "stdout",
     "output_type": "stream",
     "text": [
      "\n",
      "You chose scissors and computer chose paper.\n",
      "Scissors cuts paper. \n",
      "You win!!!\n"
     ]
    }
   ],
   "source": [
    "import random\n",
    "\n",
    "user = input(\"Choose one from rock, paper, scissors: \")\n",
    "\n",
    "a = [\"rock\",\"paper\",\"scissors\"]\n",
    "comp = random.choice(a)\n",
    "\n",
    "print(f\"\\nYou chose {user} and computer chose {comp}.\")\n",
    "\n",
    "if user == comp:\n",
    "    print(f\"Both of them selected {user}.\",\"\\nSo, it's a tie!\")\n",
    "elif user == \"rock\":\n",
    "    if comp == \"scissors\":\n",
    "        print(\"Rock smashes scissors.\",\"\\nYou win!!!\")\n",
    "    else:\n",
    "        print(\"Paper covers rock.\",\"\\nYou lose.\")\n",
    "elif user == \"paper\":\n",
    "    if comp == \"rock\":\n",
    "        print(\"Paper covers rock.\",\"\\nYou win!!!\")\n",
    "    else:\n",
    "        print(\"Scissors cuts paper.\",\"\\nYou lose.\")\n",
    "elif user == \"scissors\":\n",
    "    if comp == \"paper\":\n",
    "        print(\"Scissors cuts paper.\",\"\\nYou win!!!\")\n",
    "    else:\n",
    "        print(\"Rock smashes scissors.\",\"\\nYou lose.\")"
   ]
  }
 ],
 "metadata": {
  "kernelspec": {
   "display_name": "base",
   "language": "python",
   "name": "python3"
  },
  "language_info": {
   "codemirror_mode": {
    "name": "ipython",
    "version": 3
   },
   "file_extension": ".py",
   "mimetype": "text/x-python",
   "name": "python",
   "nbconvert_exporter": "python",
   "pygments_lexer": "ipython3",
   "version": "3.11.7"
  }
 },
 "nbformat": 4,
 "nbformat_minor": 2
}
