{
 "cells": [
  {
   "cell_type": "markdown",
   "metadata": {},
   "source": [
    "## Contact Book"
   ]
  },
  {
   "cell_type": "markdown",
   "metadata": {},
   "source": [
    "In the contact book we need to:\n",
    "i) Add a contact\n",
    "ii) View contacts\n",
    "iii) Search a contact\n",
    "iv) Update contact\n",
    "v) Delete contact "
   ]
  },
  {
   "cell_type": "code",
   "execution_count": 1,
   "metadata": {},
   "outputs": [],
   "source": [
    "contacts = []\n",
    "\n",
    "def menu():\n",
    "    print(\"Choose an action you prefer to do in the contact book:\")\n",
    "    print(\"a) Add a contact\")\n",
    "    print(\"b) View contacts\")\n",
    "    print(\"c) Search a contact\")\n",
    "    print(\"d) Update contact\")\n",
    "    print(\"e) Delete contact\")\n",
    "    print(\"f) Exit\")"
   ]
  },
  {
   "cell_type": "code",
   "execution_count": 2,
   "metadata": {},
   "outputs": [],
   "source": [
    "# For adding a new contact in the contact book\n",
    "def add_contact():\n",
    "    name=input(\"Enter the name of the contact to be added:\")\n",
    "    mo_no=int(input(\"Enter the mobile number:\"))\n",
    "    email=input(\"Enter the email id:\")\n",
    "    address=input(\"Enter the address:\")\n",
    "    new_con={\"Name\":name,\"Mo.No.\":mo_no,\"Email\":email,\"Address\":address}\n",
    "    contacts.append(new_con)\n",
    "    print(\"The contact has been added.\")"
   ]
  },
  {
   "cell_type": "code",
   "execution_count": 10,
   "metadata": {},
   "outputs": [],
   "source": [
    "# For viewing all the contacts\n",
    "def view_contacts():\n",
    "    if contacts:\n",
    "        print(\"All contacts:\")\n",
    "        for i in contacts:\n",
    "            print(\"Name:\",i[\"Name\"])\n",
    "            print(\"Email:\",i[\"Email\"])\n",
    "            print(\"Mobile Number:\",i[\"Mobile Number\"])\n",
    "            print(\"\\n\")\n",
    "    else:\n",
    "        print(\"No similar contacts found.\")"
   ]
  },
  {
   "cell_type": "code",
   "execution_count": 11,
   "metadata": {},
   "outputs": [],
   "source": [
    "# For searching an existing contact from the book\n",
    "def search_contact():\n",
    "    s=input(\"Enter the name or email of the contact you  want to search:\")\n",
    "    related_contacts = []\n",
    "    for i in contacts:\n",
    "        if s.lower() in  i[\"Name\"].lower() or s.lower() in i[\"Email\"].lower():\n",
    "            related_contacts.append(i)\n",
    "\n",
    "    if related_contacts:\n",
    "        print(\"Similar contacts found are:\")\n",
    "        for i in related_contacts:\n",
    "            print(\"Name:\",i[\"Name\"])\n",
    "            print(\"Email:\",i[\"Email\"])\n",
    "            print(\"Mobile Number:\",i[\"Mobile Number\"])\n",
    "            print(\"\\n\")\n",
    "    else:\n",
    "        print(\"No similar contacts found.\")"
   ]
  },
  {
   "cell_type": "code",
   "execution_count": 12,
   "metadata": {},
   "outputs": [],
   "source": [
    "# To update a contact in the book\n",
    "def update_contact():\n",
    "    name = input(\"Enter the name of the contact you want to update:\")\n",
    "    related_contact=None\n",
    "    for i in contacts:\n",
    "        if i[\"Name\"].lower() == name.lower():\n",
    "            related_contact = i\n",
    "            break\n",
    "    if related_contact:\n",
    "        print(\"Contact has been found. Please enter the new details:\")\n",
    "        related_contact[\"Name:\"] = input(\"Enter the new name of the contact:\")\n",
    "        related_contact[\"Mo. No.:\"] = input(\"Enter the new mobile number of the contact:\")\n",
    "        related_contact[\"Email:\"] = input(\"Enter the new email of the contact:\")\n",
    "        print(\"The contact has been updated.\")\n",
    "    else:\n",
    "        print(\"No such contact found.\")"
   ]
  },
  {
   "cell_type": "code",
   "execution_count": 13,
   "metadata": {},
   "outputs": [],
   "source": [
    "# To delete a contact from the book\n",
    "def delete_contact():\n",
    "    name=input(\"Enter the name of the contact you want to delete:\")\n",
    "    for i in contacts:\n",
    "        if i[\"Name:\"].lower == name.lower():\n",
    "            contacts.remove(i)\n",
    "            print(\"Contact has been deleted.\")\n",
    "            break\n",
    "        else:\n",
    "            print(\"No such contact found.\")"
   ]
  },
  {
   "cell_type": "code",
   "execution_count": 14,
   "metadata": {},
   "outputs": [
    {
     "name": "stdout",
     "output_type": "stream",
     "text": [
      "Choose an action you prefer to do in the contact book:\n",
      "a) Add a contact\n",
      "b) View contacts\n",
      "c) Search a contact\n",
      "d) Update contact\n",
      "e) Delete contact\n",
      "f) Exit\n",
      "Exit the program.\n"
     ]
    }
   ],
   "source": [
    "# Main Loop\n",
    "while True:\n",
    "    menu()\n",
    "    action = input(\"Enter your choice between 1-6:\")\n",
    "\n",
    "    if action == \"1\":\n",
    "        add_contact()\n",
    "    elif action == \"2\":\n",
    "        view_contacts()\n",
    "    elif action == \"3\":\n",
    "        search_contact()\n",
    "    elif action == \"4\":\n",
    "        update_contact()\n",
    "    elif action == \"5\":\n",
    "        delete_contact()\n",
    "    elif action == \"6\":\n",
    "        print(\"Exit the program.\")\n",
    "        break\n",
    "    else:\n",
    "        print(\"It's invalid! Please enter a number between 1 to 6.\")"
   ]
  }
 ],
 "metadata": {
  "kernelspec": {
   "display_name": "base",
   "language": "python",
   "name": "python3"
  },
  "language_info": {
   "codemirror_mode": {
    "name": "ipython",
    "version": 3
   },
   "file_extension": ".py",
   "mimetype": "text/x-python",
   "name": "python",
   "nbconvert_exporter": "python",
   "pygments_lexer": "ipython3",
   "version": "3.11.7"
  }
 },
 "nbformat": 4,
 "nbformat_minor": 2
}
