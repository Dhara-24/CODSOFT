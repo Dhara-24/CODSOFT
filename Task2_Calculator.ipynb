{
 "cells": [
  {
   "cell_type": "markdown",
   "metadata": {},
   "source": [
    "## Calculator"
   ]
  },
  {
   "cell_type": "code",
   "execution_count": 1,
   "metadata": {},
   "outputs": [],
   "source": [
    "n1 = int(input(\"Enter a number: \"))\n",
    "n2 = int(input(\"Enter another number: \"))\n",
    "\n",
    "opr = input(\"Enter the operation (+, -, *, /) you want to perform on those numbers: \")"
   ]
  },
  {
   "cell_type": "code",
   "execution_count": 2,
   "metadata": {},
   "outputs": [
    {
     "name": "stdout",
     "output_type": "stream",
     "text": [
      "Division of  1  by  2  is  0.5\n"
     ]
    }
   ],
   "source": [
    "if opr == \"+\":\n",
    "    print(\"Sum of \",n1,\" and \",n2,\" is \",n1+n2)\n",
    "elif opr == \"-\":\n",
    "    print(\"Difference of \",n2,\" from \",n1,\" is \",n1-n2)\n",
    "elif opr == \"*\":\n",
    "    print(\"Product of \",n1,\" and \",n2,\" is \",n1*n2)\n",
    "elif opr == \"/\":\n",
    "    print(\"Division of \",n1,\" by \",n2,\" is \",n1/n2)\n",
    "else:\n",
    "    print(\"Please select an operation like +, -, *, / to perform the calculation.\")"
   ]
  }
 ],
 "metadata": {
  "kernelspec": {
   "display_name": "base",
   "language": "python",
   "name": "python3"
  },
  "language_info": {
   "codemirror_mode": {
    "name": "ipython",
    "version": 3
   },
   "file_extension": ".py",
   "mimetype": "text/x-python",
   "name": "python",
   "nbconvert_exporter": "python",
   "pygments_lexer": "ipython3",
   "version": "3.11.7"
  }
 },
 "nbformat": 4,
 "nbformat_minor": 2
}
